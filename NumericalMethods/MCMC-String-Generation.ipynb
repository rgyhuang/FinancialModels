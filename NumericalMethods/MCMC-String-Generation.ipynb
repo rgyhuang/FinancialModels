{
 "cells": [
  {
   "cell_type": "markdown",
   "id": "f37aa218-910d-4239-a05f-25073024df36",
   "metadata": {
    "editable": true,
    "slideshow": {
     "slide_type": ""
    },
    "tags": []
   },
   "source": [
    "# Generating Strings with Metropolis Hastings\n",
    "\n",
    "In this notebook, we will: \n",
    "\n",
    "1. Read a long book and compute 3-gram frequencies (i.e. frequencies with which three letter combinations occurs in words).\n",
    "\n",
    "2. Given the 3-gram frequency distribution, we will use the Metropolis Hastings algorithm to generate long strings."
   ]
  },
  {
   "cell_type": "code",
   "execution_count": 23,
   "id": "7014ec1f-f7f8-4599-8456-e9ab36865d1e",
   "metadata": {
    "editable": true,
    "slideshow": {
     "slide_type": ""
    },
    "tags": []
   },
   "outputs": [],
   "source": [
    "from tqdm.notebook import tqdm, trange\n",
    "import multiprocessing as mp\n",
    "from itertools import product\n",
    "import numpy as np\n",
    "        \n",
    "rng = np.random.default_rng( np.random.SFC64() )"
   ]
  },
  {
   "cell_type": "code",
   "execution_count": 24,
   "id": "7e346d19-7e51-4bae-a2e5-8af7423045f2",
   "metadata": {},
   "outputs": [],
   "source": [
    "# Helper functions to go between a list of indexes to strings.\n",
    "alphabet = \"ABCDEFGHIJKLMNOPQRSTUVWXYZ\"\n",
    "index = {s:n for n, s in enumerate(alphabet)}\n",
    "stringify = lambda X: ''.join( alphabet[x] for x in X )\n",
    "tolist = lambda s: [ index[c] for c in s ]\n"
   ]
  },
  {
   "cell_type": "markdown",
   "id": "8a5461dc-9806-4c03-84f9-9e0bbde11bfa",
   "metadata": {},
   "source": [
    "The 3-gram frequencies were generated using a few books, and are stored in the `frequencies.npz` data file.\n",
    "\n",
    "`F` is a `26 x 26 x 26` array, where `F[i,j,k]` is the actual frequency with which the string containing the $i^\\text{th}$, $j^\\text{th}$ and $k^\\text{th}$ symbols of the alphabet (in that order) occurred. Note that $i, j, k \\in \\{ 0, \\dots, 25 \\}$."
   ]
  },
  {
   "cell_type": "code",
   "execution_count": 25,
   "id": "c7a82454-802f-48ab-b2ca-1c7597af7e33",
   "metadata": {
    "editable": true,
    "slideshow": {
     "slide_type": ""
    },
    "tags": []
   },
   "outputs": [],
   "source": [
    "npz = np.load( 'frequencies.npz' )\n",
    "\n",
    "F = npz['F']\n",
    "ngram = len(F.shape)"
   ]
  },
  {
   "cell_type": "markdown",
   "id": "581e7334-1995-4408-8937-49cd81a0648e",
   "metadata": {},
   "source": [
    "## Algorithm\n",
    "\n",
    "Let $N \\in \\mathbb{N}$, and let $\\mathcal X$ be the set of all length $N$ sequences of letters in the alphabet.\n",
    "If $x = (x_1, x_2, \\dots, x_N) \\in \\mathcal X$, define\n",
    "$$\n",
    "  \\pi_u(x) = \\prod_{i=1}^{N-2} (1 + F( x_i, x_{i+1}, x_{i+2} ))\n",
    "$$\n",
    "\n",
    "We will use the Metropolis Hastings algorithm to sample points from $\\mathcal X$ with probability proportional to $\\pi_u$.\n",
    "For convenience, here is a python implementation of the function $\\pi_u$. In this implementation, `x` is a list (or array), and `x[i]` is an integer between $0$ and $25$ reprenting the index of the corresponding symbol in the alphabet.\n",
    "\n",
    "In order to deal with overflows for longer strings, we compute sum of the logs of the expression above and exponentiate as follows:\n",
    "\n",
    "$$\n",
    "  \\pi_u(x) = \\exp(\\sum_{i=1}^{N-2} (1 + F( x_i, x_{i+1}, x_{i+2} )))\n",
    "$$\n"
   ]
  },
  {
   "cell_type": "code",
   "execution_count": 26,
   "id": "9cffbe51-7b68-438f-a6c5-c9f3b6ec8b53",
   "metadata": {},
   "outputs": [],
   "source": [
    "F1 = F + 1\n",
    "πu = lambda x: sum ([np.log(F1[tuple(x[i:i+ngram])]) for i in range(0, len(x)-ngram+1) ] )"
   ]
  },
  {
   "cell_type": "markdown",
   "id": "1ad7fd53-bb44-4240-a393-592caf74bd68",
   "metadata": {},
   "source": [
    "Given $x = (x_1, \\dots, x_N) \\in \\mathcal X$, we propose a state $y = (y_1, \\dots, y_N)$ as follows:\n",
    "\n",
    "1. First choose $i \\in \\{1, \\dots, N \\}$ uniformly at random.\n",
    "\n",
    "2. If $i \\leq 2$, choose $y_i'$ from the alphabet uniformly at random.\n",
    "\n",
    "3. If $i > 2$, choose $y_i'$ from the alphabet so that $\\mathbf P( y_i' = y ) \\propto 1 + F(x_{i-2}, x_{i-1}, y )$.\n",
    "\n",
    "4. Define the new state $y = (y_1, \\dots, y_N)$ by\n",
    "  \\begin{equation}\n",
    "    y_j =\n",
    "      \\begin{cases}\n",
    "        x_j & j \\neq i\\,,\\\\\n",
    "        y_i' & j = i \\,.\n",
    "      \\end{cases}\n",
    "  \\end{equation}\n",
    "\n",
    "\n",
    "\n",
    "We define the acceptance ratio for this proposal mechanism as $A(x, y)$ and $Q(x,y)$ as the probability of accepting the transition of $x$ to $y$. An extra parameter `pos` is included, which represents the index at which $x$ and $y$  differ."
   ]
  },
  {
   "cell_type": "code",
   "execution_count": 27,
   "id": "41a1bb4d",
   "metadata": {},
   "outputs": [],
   "source": [
    "def Q(x,y, pos):\n",
    "    # return the frequency of the 3-gram with the new updated string\n",
    "    return F1[x[pos-2], x[pos-1], y[pos]]\n",
    "def A(x, y, pos):\n",
    "    if pos < 2:\n",
    "        # return the difference in the values of π for x and y\n",
    "        return min(1, np.exp(πu(y) - πu(x)))\n",
    "    # else, compute π and Q and use the standard Metroplis Hastings Acceptance Ratio\n",
    "    return min(1, np.exp(πu(y)-πu(x)) * (Q(y,x,pos)/Q(x,y,pos)))\n",
    "    "
   ]
  },
  {
   "cell_type": "markdown",
   "id": "63673418",
   "metadata": {},
   "source": [
    "##### Testing the Accpetance Ratio Implementation\n",
    "\n",
    "The output of both cells below should be the same (and be around  \n",
    "0.046) since the changed index occurs around the same indexes for the same 3-grams:"
   ]
  },
  {
   "cell_type": "code",
   "execution_count": 28,
   "id": "27362389-9a6f-4e37-92a9-4feccc9bc028",
   "metadata": {
    "editable": true,
    "slideshow": {
     "slide_type": ""
    },
    "tags": []
   },
   "outputs": [
    {
     "data": {
      "text/plain": [
       "0.04601938930928614"
      ]
     },
     "execution_count": 28,
     "metadata": {},
     "output_type": "execute_result"
    }
   ],
   "source": [
    "changed_index = lambda x, y: next( i for i in range( len(x) ) if x[i] != y[i] )\n",
    "x, y = (tolist(s) for s in ('OVERTHE', 'ODERTHE') )\n",
    "A(x, y, changed_index(x, y) )"
   ]
  },
  {
   "cell_type": "code",
   "execution_count": 29,
   "id": "1d38bd60-3813-41c5-9f9f-44f94fb96e61",
   "metadata": {},
   "outputs": [
    {
     "data": {
      "text/plain": [
       "0.04601938930928629"
      ]
     },
     "execution_count": 29,
     "metadata": {},
     "output_type": "execute_result"
    }
   ],
   "source": [
    "x, y = (tolist(s) for s in (\n",
    "    'OLDMACDONALDHADAFARMEIEIOTHEQUICKBROWNFOXJUMPSOVERTHELAZYDOG',\n",
    "    'OLDMACDONALDHADAFARMEIEIOTHEQUICKBROWNFOXJUMPSODERTHELAZYDOG') )\n",
    "A(x, y, changed_index(x, y) )"
   ]
  },
  {
   "cell_type": "markdown",
   "id": "0007ccdd-1c75-42b3-ae15-35e3bfc64f48",
   "metadata": {},
   "source": [
    "### Implementing Metrpolis Hastings Sampling\n",
    "\n",
    "The function `MetropolisHastings` implements the proposal mechanism described earlier, choosing the accept a new state based on the acceptance ratio:"
   ]
  },
  {
   "cell_type": "code",
   "execution_count": 34,
   "id": "981ffec8-545c-42cc-8990-6824f340f590",
   "metadata": {},
   "outputs": [],
   "source": [
    "\n",
    "def MetropolisHastings( x, n_iters ):\n",
    "    y = x.copy()\n",
    "    alphaList = tolist(alphabet)\n",
    "    for _ in range(n_iters):\n",
    "        y_prime = y.copy()\n",
    "        i = np.random.randint(0, len(x)-1)\n",
    "        if i < 2:\n",
    "            y_prime[i] = rng.choice(alphaList)\n",
    "        else:\n",
    "            y_prime[i] = rng.choice(alphaList, p=F1[y[i-2],y[i-1]]/sum(F1[y[i-2],y[i-1]]))\n",
    "        accept = A(y, y_prime, i)\n",
    "        if(accept == 1 or np.random.binomial(1, accept)):\n",
    "            y = y_prime.copy()\n",
    "    return y\n"
   ]
  },
  {
   "cell_type": "markdown",
   "id": "82e93918-dac6-4cf4-8b3e-1190ffafe347",
   "metadata": {},
   "source": [
    "### Final Tests\n",
    "\n",
    "We generate long strings and print the current state at every few iterations. A higher value for $πu$ is better and tells us that each substring of length 3 appears frequently in our sample texts. In general, our algorithm increases the value of $πu$ on each iteration and generates words in the English dictionary!"
   ]
  },
  {
   "cell_type": "code",
   "execution_count": 37,
   "id": "0dfdbdb4-2de4-4b1a-af8a-e8b78a99af99",
   "metadata": {},
   "outputs": [
    {
     "name": "stdout",
     "output_type": "stream",
     "text": [
      "  0 KYDPGAGPUAFXQAAPSUBEOVPZIVDYOVMWVKDRDGBVZFVFYTVIPPERLWVVESDE, πu=49.79\n",
      "  1 EMERVERESTEEQUESHOMETHITEROPERENTIONESSULAINDECARRINTEETENBE, πu=360.52\n",
      "  2 AMEATERINITEQUATHALITHATHROPEREATHERESTANDISSECASTINDINTERSE, πu=375.26\n",
      "  3 GLINTERATEREQUESTINATHEREMEMENDITHEREADINDISTERMOVERMINDENTE, πu=382.01\n",
      "  4 ENESTERATEREQUENTICARTIMESINSTINTEARRENINSINGANDEREALINNINDE, πu=367.60\n",
      "  5 ELENSIDATHEEQUELIETINDEPARTHILENTHASTITARPENTATHERETHINTENTE, πu=365.20\n",
      "  6 SHANCANTEREEQUILINTENTEREATHERINDEOUTEVEREARAITHALATHALLENTE, πu=380.50\n",
      "  7 THINTINDINDEQUALLOVERIEVERTHERINGLINTENOSINDEATHARETHALLEATE, πu=383.47\n",
      "  8 THEATINTELEEQUALLACOREAREATHERINTIENTERIOUNDEATHERATHALEANTE, πu=388.76\n",
      "  9 THEATINTEREEQUEREARATHEREATHERATHEANDENSORSTANCHARITHARIANGE, πu=384.47\n",
      " 10 THALLANDEREEQUERAPEATHEMISURELETHEARNIATEARTIATHERIENOTIONDE, πu=364.40\n",
      " 11 SHALLINTEREEQUISTREATHENINEVERITHEASHEATHESTORTHOMENNETHERIE, πu=382.99\n",
      " 12 RTERSEADENESQUATEREATHERENEVERETHEATHEATHEARINCHEREATITHEANE, πu=386.22\n",
      " 13 STAITHERELEVELINININTHITILEVERETHEATHEATHEATERTHOREARISTENTE, πu=389.61\n",
      " 14 STINCHALENETININATERMAINEELLITITHEATHERILENTRATHELERREATISPE, πu=370.05\n",
      " 15 STRATHERIOULATERSTRITHINTINESSITHAPTETTEMEATHINTINESTERTANDE, πu=385.29\n",
      " 16 AMENDECTIOULINANDERATHICTENTATITHINTINTOREATENTHINTENTLEARIE, πu=381.67\n",
      " 17 HTERRESTIOURETHITHEATHINTERESTINDENTERTALINERETHERTINTIENERE, πu=389.79\n",
      " 18 STELLEATHORNATHETHEATHALLERESTINDISHINTERITERETHEITINDERSOFE, πu=382.29\n",
      " 19 THALLERSTEREATHERHERTHARTILLITINTENTENDENTERINTHERMEARENTELE, πu=388.90\n",
      " 20 THERANTITHREATHEATILOSTATEARELITHINDONSTLEAREATHESIOTHINEATE, πu=378.08\n",
      "CPU times: user 6.02 s, sys: 72.9 ms, total: 6.1 s\n",
      "Wall time: 5.8 s\n"
     ]
    }
   ],
   "source": [
    "%%time\n",
    "X = rng.integers( len(alphabet), size=60 ) # Start randomly\n",
    "print( f'{0:3} {stringify(X)}, πu={πu(X):.2f}' )\n",
    "for n in range(20):\n",
    "    X = MetropolisHastings( X, 1000 )\n",
    "    print( f'{n+1:3} {stringify(X)}, πu={πu(X):.2f}' )"
   ]
  },
  {
   "cell_type": "code",
   "execution_count": null,
   "id": "60b24e14-bb14-4767-a108-8200ede56787",
   "metadata": {},
   "outputs": [
    {
     "ename": "",
     "evalue": "",
     "output_type": "error",
     "traceback": [
      "\u001b[1;31mRunning cells with '/bin/python3.12' requires the ipykernel package.\n",
      "\u001b[1;31mRun the following command to install 'ipykernel' into the Python environment. \n",
      "\u001b[1;31mCommand: '/bin/python3.12 -m pip install ipykernel -U --user --force-reinstall'"
     ]
    }
   ],
   "source": []
  }
 ],
 "metadata": {
  "kernelspec": {
   "display_name": "Python 3 (ipykernel)",
   "language": "python",
   "name": "python3"
  },
  "language_info": {
   "codemirror_mode": {
    "name": "ipython",
    "version": 3
   },
   "file_extension": ".py",
   "mimetype": "text/x-python",
   "name": "python",
   "nbconvert_exporter": "python",
   "pygments_lexer": "ipython3",
   "version": "3.10.13"
  }
 },
 "nbformat": 4,
 "nbformat_minor": 5
}
